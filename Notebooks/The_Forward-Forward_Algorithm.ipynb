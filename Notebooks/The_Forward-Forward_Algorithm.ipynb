{
 "cells": [
  {
   "cell_type": "markdown",
   "id": "770af4ae",
   "metadata": {},
   "source": [
    "## Context\n",
    "\n",
    "As explained by <a href=\"https://www.cs.toronto.edu/~hinton/FFA13.pdf\">Hinton</a>, the Forward Forward (FF) Algorithm is a greedy multi-layer learning procedure which tries to replace the forward and backward passes of the backpropagation algorithm by using two forward passes instead.<br>\n",
    "The main ideas are :\n",
    "<ul>\n",
    "    <li> A positive pass which operates on real data and adjusts the weights to increase the goodness in\n",
    "every hidden layer\n",
    "    <li> A negative pass which operates on negative data and adjusts the weights to decrease the goodness in every hidden layer.\n",
    "    <li> The goodness is measured using the sum of the squared neural activities and the negative sum of the squared activities\n",
    "    <li> The neural network objective is to make the goodness above some threshold for the positive data and below it for the negative ones.\n",
    "    <li> Weights updates are performed within the layer itself\n",
    "        \n",
    "</ul>\n",
    "\n",
    "### Goodness \n",
    "\n",
    "To measure the goodness, Hinton used the sum of the squared neural activities for two main reasons :\n",
    "\n",
    "<ol>\n",
    "    <li> It has very simple derivatives\n",
    "    <li> Layer normalization removes all trace of the goodness\n",
    "</ol>\n",
    "So the goodness can be defined as :\n",
    "$$ G(x) = \\sum_{i=1}^{m}(ReLU(z_i))^2          \\text{ where : }$$\n",
    "<center>    \n",
    "<ul>\n",
    "    <li> $x$ is an input of a layer\n",
    "    <li> $ReLU(z_i)$ is the activity of the neuron $i$ by applying a Rectified Linear Unit\n",
    "    <li> $m$ is the number of neurons in the layer\n",
    "</ul>\n",
    "</center>\n",
    "\n",
    "### Learning Objective\n",
    "\n",
    "Our training objective is to predict whether an input instance is a positive data or a negative one by computing the following probability :\n",
    "\n",
    "$$ p(x_{positive}) = \\sigma(G(x) - \\theta) \\text{ where } \\theta \\text{ is a threshold and } \\sigma \\text{ is the logistic function}$$\n",
    "\n",
    "Let's walk through the details by applying the algorithm to the MNIST dataset\n",
    "\n",
    "## Implementation"
   ]
  },
  {
   "cell_type": "code",
   "execution_count": 1,
   "id": "30b7783c",
   "metadata": {},
   "outputs": [],
   "source": [
    "import random\n",
    "from pathlib import Path\n",
    "\n",
    "import torch.nn as nn\n",
    "import torch\n",
    "\n",
    "from torchvision.datasets import MNIST\n",
    "import torchvision.transforms as transforms\n",
    "from torch.utils.data import DataLoader\n",
    "from torch import cuda\n",
    "import torch.nn.functional as F\n",
    "import torch.optim as optim\n",
    "\n",
    "import matplotlib.pyplot as plt\n",
    "\n",
    "\n",
    "torch.manual_seed(23)\n",
    "random.seed(24)"
   ]
  },
  {
   "cell_type": "markdown",
   "id": "76f3fa2c",
   "metadata": {},
   "source": [
    "### Data Preparation"
   ]
  },
  {
   "cell_type": "code",
   "execution_count": 2,
   "id": "7d419e37",
   "metadata": {},
   "outputs": [],
   "source": [
    "# create a folder to save MNIST once for all\n",
    "root = './data'\n",
    "if not Path(root).is_dir():\n",
    "    Path(root).mkdir()\n",
    "\n",
    "# prepare and transform data \n",
    "trans = transforms.Compose([transforms.ToTensor(), transforms.Normalize((0.1307,), (0.3081,))])\n",
    "\n",
    "X_train = MNIST(root=root, train=True, transform=trans, download=True)\n",
    "X_test = MNIST(root=root, train=False, transform=trans, download=True)\n",
    "\n",
    "train_loader = DataLoader(dataset=X_train, batch_size=len(X_train), shuffle=True)\n",
    "test_loader = DataLoader(dataset=X_train, batch_size=len(X_test), shuffle=False)"
   ]
  },
  {
   "cell_type": "markdown",
   "id": "f2060355",
   "metadata": {},
   "source": [
    "### Building Positive and Negative Data\n",
    "\n",
    "Positive data are created by linking to each input its true label. In contrast, the negative data are built by associating a random label to an input (one can use other methods to generate these data).<br>\n",
    "As suggested by Hinton, one way of building positive and negative data is to add the label to each input. In our case, MNIST images contain a black border, so one can embed the labels by using the first ten pixels."
   ]
  },
  {
   "cell_type": "code",
   "execution_count": 3,
   "id": "239a4fff-b2dd-4c4a-8af9-72379fe94868",
   "metadata": {},
   "outputs": [],
   "source": [
    "data_iter = iter(train_loader)\n",
    "x, y = data_iter.next()\n",
    "\n",
    "# get dimensions\n",
    "n, _, d, _ = x.shape\n",
    "\n",
    "# construct positive data\n",
    "x_positive = x.clone()\n",
    "maxi = x.max()\n",
    "\n",
    "x_positive[range(n), 0, 0, y] = maxi\n",
    "\n",
    "# construct negative data\n",
    "x_negative = x.clone()\n",
    "y_random = torch.randint(10, (n,))\n",
    "\n",
    "# we want that each negative input contains a false label\n",
    "force_randomness = True # turn to False to keep some true labels in negative data\n",
    "if force_randomness:\n",
    "    for i in range(n):\n",
    "        if y_random[i] == y[i]:\n",
    "            y_random[i] = random.choice(list(set([r for r in range(10)]) - set([y[i].item()])))\n",
    "\n",
    "    # let's check if the randomness is forced\n",
    "    assert any(y_random == y) == False\n",
    "\n",
    "x_negative[range(n), 0, 0, y_random] = maxi"
   ]
  },
  {
   "cell_type": "code",
   "execution_count": 4,
   "id": "2481beee-ced5-43d2-9f25-94a9c4ad5b95",
   "metadata": {},
   "outputs": [],
   "source": [
    "# prepare test data\n",
    "data_test_iter = iter(test_loader)\n",
    "x_test, y_test = data_test_iter.next()\n",
    "\n",
    "# get dimensions\n",
    "m, _, _, _ = x_test.shape"
   ]
  },
  {
   "cell_type": "markdown",
   "id": "e6142b71-8f1c-499c-ade0-8becdd17933f",
   "metadata": {},
   "source": [
    "Let's visualize some samples from the new constructed images : "
   ]
  },
  {
   "cell_type": "code",
   "execution_count": 5,
   "id": "18cc2c2c-c8a6-44aa-8b3e-d89a99af6c1c",
   "metadata": {},
   "outputs": [
    {
     "data": {
      "image/png": "[encoded data removed]",
      "text/plain": [
       "<Figure size 864x864 with 2 Axes>"
      ]
     },
     "metadata": {
      "needs_background": "light"
     },
     "output_type": "display_data"
    }
   ],
   "source": [
    "# pick a random image from each set\n",
    "sample_index = random.choice(range(n))\n",
    "\n",
    "images = [(x_positive[sample_index], y[sample_index].item()), (x_negative[sample_index], y_random[sample_index].item())]\n",
    "\n",
    "plt.figure(figsize=(12, 12))\n",
    "\n",
    "plt.suptitle('Positive input is on the left, the negative one is on the right', fontsize=15)\n",
    "\n",
    "for idx, (image, label) in enumerate(images):\n",
    "    plt.subplot(2, 2, idx + 1)\n",
    "    plt.imshow(image.reshape((d, d)), cmap=\"gray\")\n",
    "    plt.title(f\"This image is labeled as {label}\")\n",
    "plt.show()"
   ]
  },
  {
   "cell_type": "markdown",
   "id": "82e3532a-f974-4294-b681-f48b4fd05813",
   "metadata": {},
   "source": [
    "### Building the Neural Network\n",
    "\n",
    "Concerning the architecture of the network, and as some of the experiments done by Hinton, we will use a fully-connected network with 2 hidden layers and 700 neurons in each layer (Hinton used 2000 units and 4 layers, we reduced the size for computational reasons).<br>\n",
    "For memory issues with *cuda*, one might reduce the size of units per layer or train the network by batches.<br>\n",
    "Here some options to fix during the training phase :"
   ]
  },
  {
   "cell_type": "code",
   "execution_count": 6,
   "id": "9ce38cc5-8eca-4ebc-81e8-473247b11cd1",
   "metadata": {},
   "outputs": [],
   "source": [
    "from enum import Enum\n",
    "\n",
    "# fixing some options\n",
    "class HyperParameters(Enum):\n",
    "    UNITS_PER_LAYER = 700\n",
    "    EPOCHS_PER_LAYER = 1000\n",
    "    LEARNING_RATE =  0.03\n",
    "    THETA = 2.0\n"
   ]
  },
  {
   "cell_type": "markdown",
   "id": "da0d2d6a-2817-43bb-96c2-a3fab41844b1",
   "metadata": {},
   "source": [
    "The main mechanics are performed inside each layer. In other words, each layer has an optimizer and a training process."
   ]
  },
  {
   "cell_type": "code",
   "execution_count": 7,
   "id": "a6e6b8f3-f094-4b2d-b84d-8cdb5ac1562f",
   "metadata": {},
   "outputs": [],
   "source": [
    "# defining the layer\n",
    "class DenseLayer(nn.Linear):\n",
    "    \n",
    "    def __init__(self, in_features, out_features, bias=True):\n",
    "        super().__init__(in_features, out_features, bias)\n",
    "\n",
    "        self.relu = nn.ReLU(True)\n",
    "        # an optimizer for each layer\n",
    "        self.optimizer = optim.Adam(self.parameters(), lr=HyperParameters.LEARNING_RATE.value)\n",
    "        # the threshold\n",
    "        self.theta = HyperParameters.THETA.value\n",
    "        \n",
    "    def forward(self, x):\n",
    "        x = F.normalize(x)\n",
    "        return self.relu(x@self.weight.T + self.bias)\n",
    "    \n",
    "    def goodness(self, x):\n",
    "        return self.forward(x).pow(2).mean(1)\n",
    "    \n",
    "    def logits(self, g_plus, g_minus):\n",
    "        return torch.log(1 + torch.exp(torch.cat([-g_plus + self.theta, g_minus - self.theta]))).mean()\n",
    "    \n",
    "    def loss(self, x_pos, x_neg):\n",
    "        return self.logits(self.goodness(x_pos), self.goodness(x_neg))\n",
    "        \n",
    "    def train(self, x_pos, x_neg):\n",
    "        loss_per_layer = list()\n",
    "\n",
    "        for step in range(HyperParameters.EPOCHS_PER_LAYER.value):\n",
    "            \n",
    "            self.optimizer.zero_grad()\n",
    "            \n",
    "            los = self.loss(x_pos, x_neg)\n",
    "            loss_per_layer.append(los.item())\n",
    "            los.backward()\n",
    "            \n",
    "            self.optimizer.step()\n",
    "            \n",
    "        return self.forward(x_pos).detach(), self.forward(x_neg).detach(), loss_per_layer\n"
   ]
  },
  {
   "cell_type": "markdown",
   "id": "dfbcebd5-603c-4a97-ae59-bbead1e39c1b",
   "metadata": {},
   "source": [
    "Now let's create our neural network based on the structure of the defined layer :"
   ]
  },
  {
   "cell_type": "code",
   "execution_count": 8,
   "id": "cf8c70fc-4727-4e58-82ea-15085c3c22f4",
   "metadata": {},
   "outputs": [],
   "source": [
    "# defining the network\n",
    "class FCNetwork(nn.Module):\n",
    "    \n",
    "    def __init__(self, dimensions):\n",
    "        super().__init__()\n",
    "        \n",
    "        self.layers = list()\n",
    "        for l in range(len(dimensions) - 1):\n",
    "            self.layers.append(DenseLayer(dimensions[l], dimensions[l+1]).cuda())\n",
    "            \n",
    "    def train(self, x_positive, x_negative):\n",
    "        x_layer_positive, x_layer_negative = x_positive, x_negative\n",
    "        print(f\">>>>>>>>>>>>>>>>> Training..\")\n",
    "        for l, layer in enumerate(self.layers, 1):\n",
    "            x_layer_positive, x_layer_negative, loss = layer.train(x_layer_positive, x_layer_negative)\n",
    "\n",
    "            plt.plot(loss)\n",
    "            plt.title(f\"Evolution of the loss over the layer {l}\")\n",
    "            plt.xlabel(\"Steps\")\n",
    "            plt.ylabel(\"Loss\")\n",
    "            plt.show()\n",
    "                "
   ]
  },
  {
   "cell_type": "markdown",
   "id": "cb1d00f0-f853-438a-afbf-9be241430a96",
   "metadata": {},
   "source": [
    "### Training the Network"
   ]
  },
  {
   "cell_type": "code",
   "execution_count": 9,
   "id": "579ceadd-938f-4603-88c6-a84e2b7978e2",
   "metadata": {},
   "outputs": [],
   "source": [
    "# get the appropriate diemensions\n",
    "x_positive, x_negative = x_positive.reshape((n, d*d)).cuda(), x_negative.reshape((n, d*d)).cuda()"
   ]
  },
  {
   "cell_type": "code",
   "execution_count": 10,
   "id": "9908af95-fce4-486f-83cc-f298d3e8e2eb",
   "metadata": {},
   "outputs": [],
   "source": [
    "# instantiate the network\n",
    "hl_size = HyperParameters.UNITS_PER_LAYER.value\n",
    "network = FCNetwork([d*d, hl_size, hl_size])"
   ]
  },
  {
   "cell_type": "code",
   "execution_count": 11,
   "id": "e47a1190-d9af-4374-b682-1736fd2eeb19",
   "metadata": {},
   "outputs": [
    {
     "name": "stdout",
     "output_type": "stream",
     "text": [
      ">>>>>>>>>>>>>>>>> Training..\n"
     ]
    },
    {
     "data": {
      "image/png": "[encoded data removed]",
      "text/plain": [
       "<Figure size 432x288 with 1 Axes>"
      ]
     },
     "metadata": {
      "needs_background": "light"
     },
     "output_type": "display_data"
    },
    {
     "data": {
      "image/png": "[encoded data removed]",
      "text/plain": [
       "<Figure size 432x288 with 1 Axes>"
      ]
     },
     "metadata": {
      "needs_background": "light"
     },
     "output_type": "display_data"
    }
   ],
   "source": [
    "# fit\n",
    "network.train(x_positive, x_negative)"
   ]
  },
  {
   "cell_type": "markdown",
   "id": "f1334b15-d4da-432c-8191-45e6083f50f0",
   "metadata": {},
   "source": [
    "### Inference\n",
    "\n",
    "Now, after training, let's see how we can make predictions. In order to do so, we will compute the goodness for each label and choose the one with highest value :"
   ]
  },
  {
   "cell_type": "code",
   "execution_count": 12,
   "id": "f41924f0-02cf-483d-a842-114a883ced07",
   "metadata": {},
   "outputs": [],
   "source": [
    "# function that adds a label to the images\n",
    "def embed_labels(x, label):\n",
    "    x_embed = x.clone()\n",
    "    maxi = x.max()\n",
    "    x_embed[range(x.shape[0]), 0, 0, label] = maxi\n",
    "    return x_embed\n",
    "\n",
    "# function that computes local goodness\n",
    "def layer_goodness(z):\n",
    "    return z.pow(2).mean(1)"
   ]
  },
  {
   "cell_type": "code",
   "execution_count": 13,
   "id": "e18c9c76-4d9b-4eb7-839c-eb7de458c744",
   "metadata": {},
   "outputs": [],
   "source": [
    "global_goodness = list()\n",
    "\n",
    "for label in range(10):\n",
    "    local_goodness = list()\n",
    "    x_test_layer =  embed_labels(x_test, label).reshape((m, d*d)).cuda()\n",
    "    for layer in network.layers:\n",
    "        x_test_layer = layer(x_test_layer)\n",
    "        local_goodness.append(layer_goodness(x_test_layer))\n",
    "    global_goodness.append(sum(local_goodness).unsqueeze(1))\n",
    "goodness_per_label = torch.cat(global_goodness, 1)"
   ]
  },
  {
   "cell_type": "code",
   "execution_count": 14,
   "id": "95812de6-04a8-41ef-acb9-a1d6e4f31cc1",
   "metadata": {},
   "outputs": [],
   "source": [
    "y_pred = goodness_per_label.argmax(1)"
   ]
  },
  {
   "cell_type": "code",
   "execution_count": 15,
   "id": "6185b842-ee8b-45f4-90f5-c4c14d653581",
   "metadata": {},
   "outputs": [
    {
     "name": "stdout",
     "output_type": "stream",
     "text": [
      "Accuracy = 0.931\n"
     ]
    }
   ],
   "source": [
    "print(f\"Accuracy = {sum(y_pred == y_test.cuda()).item()/m:.3f}\")"
   ]
  },
  {
   "cell_type": "markdown",
   "id": "3cfd2280-ea2f-475e-bbc3-bcaee1b00da7",
   "metadata": {},
   "source": [
    "This value can be improved by conducting more experiments and some advanced fine tuning."
   ]
  },
  {
   "cell_type": "markdown",
   "id": "e5bf697d-2947-4ac5-b1a6-c892b07e867b",
   "metadata": {},
   "source": [
    "\n",
    "## References\n",
    "\n",
    "[1] : Hinton G., (2022), \"The Forward-Forward Algorithm: Some Preliminary Investigations\", https://www.cs.toronto.edu/~hinton/FFA13.pdf <br>\n",
    "[2] : https://github.com/mohammadpz/pytorch_forward_forward"
   ]
  }
 ],
 "metadata": {
  "kernelspec": {
   "display_name": "Python 3 (ipykernel)",
   "language": "python",
   "name": "python3"
  },
  "language_info": {
   "codemirror_mode": {
    "name": "ipython",
    "version": 3
   },
   "file_extension": ".py",
   "mimetype": "text/x-python",
   "name": "python",
   "nbconvert_exporter": "python",
   "pygments_lexer": "ipython3",
   "version": "3.8.12"
  }
 },
 "nbformat": 4,
 "nbformat_minor": 5
}
